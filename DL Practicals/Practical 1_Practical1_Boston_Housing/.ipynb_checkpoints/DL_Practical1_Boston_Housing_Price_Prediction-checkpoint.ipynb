{
 "cells": [
  {
   "cell_type": "markdown",
   "id": "036f0dad",
   "metadata": {},
   "source": [
    "# PRACTICAL 1\n",
    "## Implement Boston housing price predictionproblem by Linear regression using Deep Neural network. Use Boston House price predictiondataset"
   ]
  },
  {
   "cell_type": "markdown",
   "id": "7d6dcbab",
   "metadata": {},
   "source": [
    "# Import important libraries"
   ]
  },
  {
   "cell_type": "code",
   "execution_count": 1,
   "id": "27456935",
   "metadata": {},
   "outputs": [],
   "source": [
    "import pandas as pd\n",
    "import numpy as np"
   ]
  },
  {
   "cell_type": "code",
   "execution_count": 2,
   "id": "10fe770c",
   "metadata": {},
   "outputs": [],
   "source": [
    "import matplotlib.pyplot as plt\n",
    "import seaborn as sns\n"
   ]
  },
  {
   "cell_type": "code",
   "execution_count": 3,
   "id": "d754f4f2",
   "metadata": {},
   "outputs": [
    {
     "name": "stdout",
     "output_type": "stream",
     "text": [
      "<class 'pandas.core.frame.DataFrame'>\n",
      "RangeIndex: 506 entries, 0 to 505\n",
      "Data columns (total 14 columns):\n",
      " #   Column   Non-Null Count  Dtype  \n",
      "---  ------   --------------  -----  \n",
      " 0   CRIM     506 non-null    float64\n",
      " 1   ZN       506 non-null    float64\n",
      " 2   INDUS    506 non-null    float64\n",
      " 3   CHAS     506 non-null    int64  \n",
      " 4   NOX      506 non-null    float64\n",
      " 5   RM       506 non-null    float64\n",
      " 6   AGE      506 non-null    float64\n",
      " 7   DIS      506 non-null    float64\n",
      " 8   RAD      506 non-null    int64  \n",
      " 9   TAX      506 non-null    float64\n",
      " 10  PTRATIO  506 non-null    float64\n",
      " 11  B        506 non-null    float64\n",
      " 12  LSTAT    506 non-null    float64\n",
      " 13  MEDV     506 non-null    float64\n",
      "dtypes: float64(12), int64(2)\n",
      "memory usage: 55.5 KB\n"
     ]
    }
   ],
   "source": [
    "df=pd.read_csv('boston.csv')\n",
    "df.info()"
   ]
  },
  {
   "cell_type": "markdown",
   "id": "c705b70b",
   "metadata": {},
   "source": [
    "# Spillting the data into input and output"
   ]
  },
  {
   "cell_type": "code",
   "execution_count": 4,
   "id": "9dea2526",
   "metadata": {},
   "outputs": [
    {
     "data": {
      "text/html": [
       "<div>\n",
       "<style scoped>\n",
       "    .dataframe tbody tr th:only-of-type {\n",
       "        vertical-align: middle;\n",
       "    }\n",
       "\n",
       "    .dataframe tbody tr th {\n",
       "        vertical-align: top;\n",
       "    }\n",
       "\n",
       "    .dataframe thead th {\n",
       "        text-align: right;\n",
       "    }\n",
       "</style>\n",
       "<table border=\"1\" class=\"dataframe\">\n",
       "  <thead>\n",
       "    <tr style=\"text-align: right;\">\n",
       "      <th></th>\n",
       "      <th>CRIM</th>\n",
       "      <th>ZN</th>\n",
       "      <th>INDUS</th>\n",
       "      <th>CHAS</th>\n",
       "      <th>NOX</th>\n",
       "      <th>RM</th>\n",
       "      <th>AGE</th>\n",
       "      <th>DIS</th>\n",
       "      <th>RAD</th>\n",
       "      <th>TAX</th>\n",
       "      <th>PTRATIO</th>\n",
       "      <th>B</th>\n",
       "      <th>LSTAT</th>\n",
       "    </tr>\n",
       "  </thead>\n",
       "  <tbody>\n",
       "    <tr>\n",
       "      <th>0</th>\n",
       "      <td>0.00632</td>\n",
       "      <td>18.0</td>\n",
       "      <td>2.31</td>\n",
       "      <td>0</td>\n",
       "      <td>0.538</td>\n",
       "      <td>6.575</td>\n",
       "      <td>65.2</td>\n",
       "      <td>4.0900</td>\n",
       "      <td>1</td>\n",
       "      <td>296.0</td>\n",
       "      <td>15.3</td>\n",
       "      <td>396.90</td>\n",
       "      <td>4.98</td>\n",
       "    </tr>\n",
       "    <tr>\n",
       "      <th>1</th>\n",
       "      <td>0.02731</td>\n",
       "      <td>0.0</td>\n",
       "      <td>7.07</td>\n",
       "      <td>0</td>\n",
       "      <td>0.469</td>\n",
       "      <td>6.421</td>\n",
       "      <td>78.9</td>\n",
       "      <td>4.9671</td>\n",
       "      <td>2</td>\n",
       "      <td>242.0</td>\n",
       "      <td>17.8</td>\n",
       "      <td>396.90</td>\n",
       "      <td>9.14</td>\n",
       "    </tr>\n",
       "    <tr>\n",
       "      <th>2</th>\n",
       "      <td>0.02729</td>\n",
       "      <td>0.0</td>\n",
       "      <td>7.07</td>\n",
       "      <td>0</td>\n",
       "      <td>0.469</td>\n",
       "      <td>7.185</td>\n",
       "      <td>61.1</td>\n",
       "      <td>4.9671</td>\n",
       "      <td>2</td>\n",
       "      <td>242.0</td>\n",
       "      <td>17.8</td>\n",
       "      <td>392.83</td>\n",
       "      <td>4.03</td>\n",
       "    </tr>\n",
       "    <tr>\n",
       "      <th>3</th>\n",
       "      <td>0.03237</td>\n",
       "      <td>0.0</td>\n",
       "      <td>2.18</td>\n",
       "      <td>0</td>\n",
       "      <td>0.458</td>\n",
       "      <td>6.998</td>\n",
       "      <td>45.8</td>\n",
       "      <td>6.0622</td>\n",
       "      <td>3</td>\n",
       "      <td>222.0</td>\n",
       "      <td>18.7</td>\n",
       "      <td>394.63</td>\n",
       "      <td>2.94</td>\n",
       "    </tr>\n",
       "    <tr>\n",
       "      <th>4</th>\n",
       "      <td>0.06905</td>\n",
       "      <td>0.0</td>\n",
       "      <td>2.18</td>\n",
       "      <td>0</td>\n",
       "      <td>0.458</td>\n",
       "      <td>7.147</td>\n",
       "      <td>54.2</td>\n",
       "      <td>6.0622</td>\n",
       "      <td>3</td>\n",
       "      <td>222.0</td>\n",
       "      <td>18.7</td>\n",
       "      <td>396.90</td>\n",
       "      <td>5.33</td>\n",
       "    </tr>\n",
       "    <tr>\n",
       "      <th>...</th>\n",
       "      <td>...</td>\n",
       "      <td>...</td>\n",
       "      <td>...</td>\n",
       "      <td>...</td>\n",
       "      <td>...</td>\n",
       "      <td>...</td>\n",
       "      <td>...</td>\n",
       "      <td>...</td>\n",
       "      <td>...</td>\n",
       "      <td>...</td>\n",
       "      <td>...</td>\n",
       "      <td>...</td>\n",
       "      <td>...</td>\n",
       "    </tr>\n",
       "    <tr>\n",
       "      <th>501</th>\n",
       "      <td>0.06263</td>\n",
       "      <td>0.0</td>\n",
       "      <td>11.93</td>\n",
       "      <td>0</td>\n",
       "      <td>0.573</td>\n",
       "      <td>6.593</td>\n",
       "      <td>69.1</td>\n",
       "      <td>2.4786</td>\n",
       "      <td>1</td>\n",
       "      <td>273.0</td>\n",
       "      <td>21.0</td>\n",
       "      <td>391.99</td>\n",
       "      <td>9.67</td>\n",
       "    </tr>\n",
       "    <tr>\n",
       "      <th>502</th>\n",
       "      <td>0.04527</td>\n",
       "      <td>0.0</td>\n",
       "      <td>11.93</td>\n",
       "      <td>0</td>\n",
       "      <td>0.573</td>\n",
       "      <td>6.120</td>\n",
       "      <td>76.7</td>\n",
       "      <td>2.2875</td>\n",
       "      <td>1</td>\n",
       "      <td>273.0</td>\n",
       "      <td>21.0</td>\n",
       "      <td>396.90</td>\n",
       "      <td>9.08</td>\n",
       "    </tr>\n",
       "    <tr>\n",
       "      <th>503</th>\n",
       "      <td>0.06076</td>\n",
       "      <td>0.0</td>\n",
       "      <td>11.93</td>\n",
       "      <td>0</td>\n",
       "      <td>0.573</td>\n",
       "      <td>6.976</td>\n",
       "      <td>91.0</td>\n",
       "      <td>2.1675</td>\n",
       "      <td>1</td>\n",
       "      <td>273.0</td>\n",
       "      <td>21.0</td>\n",
       "      <td>396.90</td>\n",
       "      <td>5.64</td>\n",
       "    </tr>\n",
       "    <tr>\n",
       "      <th>504</th>\n",
       "      <td>0.10959</td>\n",
       "      <td>0.0</td>\n",
       "      <td>11.93</td>\n",
       "      <td>0</td>\n",
       "      <td>0.573</td>\n",
       "      <td>6.794</td>\n",
       "      <td>89.3</td>\n",
       "      <td>2.3889</td>\n",
       "      <td>1</td>\n",
       "      <td>273.0</td>\n",
       "      <td>21.0</td>\n",
       "      <td>393.45</td>\n",
       "      <td>6.48</td>\n",
       "    </tr>\n",
       "    <tr>\n",
       "      <th>505</th>\n",
       "      <td>0.04741</td>\n",
       "      <td>0.0</td>\n",
       "      <td>11.93</td>\n",
       "      <td>0</td>\n",
       "      <td>0.573</td>\n",
       "      <td>6.030</td>\n",
       "      <td>80.8</td>\n",
       "      <td>2.5050</td>\n",
       "      <td>1</td>\n",
       "      <td>273.0</td>\n",
       "      <td>21.0</td>\n",
       "      <td>396.90</td>\n",
       "      <td>7.88</td>\n",
       "    </tr>\n",
       "  </tbody>\n",
       "</table>\n",
       "<p>506 rows × 13 columns</p>\n",
       "</div>"
      ],
      "text/plain": [
       "        CRIM    ZN  INDUS  CHAS    NOX     RM   AGE     DIS  RAD    TAX  \\\n",
       "0    0.00632  18.0   2.31     0  0.538  6.575  65.2  4.0900    1  296.0   \n",
       "1    0.02731   0.0   7.07     0  0.469  6.421  78.9  4.9671    2  242.0   \n",
       "2    0.02729   0.0   7.07     0  0.469  7.185  61.1  4.9671    2  242.0   \n",
       "3    0.03237   0.0   2.18     0  0.458  6.998  45.8  6.0622    3  222.0   \n",
       "4    0.06905   0.0   2.18     0  0.458  7.147  54.2  6.0622    3  222.0   \n",
       "..       ...   ...    ...   ...    ...    ...   ...     ...  ...    ...   \n",
       "501  0.06263   0.0  11.93     0  0.573  6.593  69.1  2.4786    1  273.0   \n",
       "502  0.04527   0.0  11.93     0  0.573  6.120  76.7  2.2875    1  273.0   \n",
       "503  0.06076   0.0  11.93     0  0.573  6.976  91.0  2.1675    1  273.0   \n",
       "504  0.10959   0.0  11.93     0  0.573  6.794  89.3  2.3889    1  273.0   \n",
       "505  0.04741   0.0  11.93     0  0.573  6.030  80.8  2.5050    1  273.0   \n",
       "\n",
       "     PTRATIO       B  LSTAT  \n",
       "0       15.3  396.90   4.98  \n",
       "1       17.8  396.90   9.14  \n",
       "2       17.8  392.83   4.03  \n",
       "3       18.7  394.63   2.94  \n",
       "4       18.7  396.90   5.33  \n",
       "..       ...     ...    ...  \n",
       "501     21.0  391.99   9.67  \n",
       "502     21.0  396.90   9.08  \n",
       "503     21.0  396.90   5.64  \n",
       "504     21.0  393.45   6.48  \n",
       "505     21.0  396.90   7.88  \n",
       "\n",
       "[506 rows x 13 columns]"
      ]
     },
     "execution_count": 4,
     "metadata": {},
     "output_type": "execute_result"
    }
   ],
   "source": [
    "x=df.drop('MEDV',axis =1)\n",
    "x"
   ]
  },
  {
   "cell_type": "code",
   "execution_count": 5,
   "id": "ea2048a6",
   "metadata": {},
   "outputs": [
    {
     "data": {
      "text/plain": [
       "0      24.0\n",
       "1      21.6\n",
       "2      34.7\n",
       "3      33.4\n",
       "4      36.2\n",
       "       ... \n",
       "501    22.4\n",
       "502    20.6\n",
       "503    23.9\n",
       "504    22.0\n",
       "505    11.9\n",
       "Name: MEDV, Length: 506, dtype: float64"
      ]
     },
     "execution_count": 5,
     "metadata": {},
     "output_type": "execute_result"
    }
   ],
   "source": [
    "y=df['MEDV']\n",
    "y"
   ]
  },
  {
   "cell_type": "markdown",
   "id": "fa0dc02a",
   "metadata": {},
   "source": [
    "# Feature Selection\n"
   ]
  },
  {
   "cell_type": "code",
   "execution_count": 6,
   "id": "7c31a361",
   "metadata": {},
   "outputs": [],
   "source": [
    "from sklearn.preprocessing import StandardScaler"
   ]
  },
  {
   "cell_type": "code",
   "execution_count": 7,
   "id": "d58f7bdb",
   "metadata": {},
   "outputs": [],
   "source": [
    "scaler = StandardScaler()"
   ]
  },
  {
   "cell_type": "code",
   "execution_count": 8,
   "id": "b3e31ba4",
   "metadata": {},
   "outputs": [],
   "source": [
    "x_scale = scaler.fit_transform(x)"
   ]
  },
  {
   "cell_type": "code",
   "execution_count": 9,
   "id": "b019458f",
   "metadata": {},
   "outputs": [
    {
     "data": {
      "text/plain": [
       "array([[-0.41978194,  0.28482986, -1.2879095 , ..., -1.45900038,\n",
       "         0.44105193, -1.0755623 ],\n",
       "       [-0.41733926, -0.48772236, -0.59338101, ..., -0.30309415,\n",
       "         0.44105193, -0.49243937],\n",
       "       [-0.41734159, -0.48772236, -0.59338101, ..., -0.30309415,\n",
       "         0.39642699, -1.2087274 ],\n",
       "       ...,\n",
       "       [-0.41344658, -0.48772236,  0.11573841, ...,  1.17646583,\n",
       "         0.44105193, -0.98304761],\n",
       "       [-0.40776407, -0.48772236,  0.11573841, ...,  1.17646583,\n",
       "         0.4032249 , -0.86530163],\n",
       "       [-0.41500016, -0.48772236,  0.11573841, ...,  1.17646583,\n",
       "         0.44105193, -0.66905833]])"
      ]
     },
     "execution_count": 9,
     "metadata": {},
     "output_type": "execute_result"
    }
   ],
   "source": [
    "x_scale"
   ]
  },
  {
   "cell_type": "code",
   "execution_count": 10,
   "id": "f3cb9009",
   "metadata": {},
   "outputs": [],
   "source": [
    "from sklearn.model_selection import train_test_split\n",
    "\n",
    "X_train, X_test, y_train, y_test = train_test_split(x_scale, y, test_size=0.18, random_state=18)"
   ]
  },
  {
   "cell_type": "code",
   "execution_count": 11,
   "id": "e4d7d3d6",
   "metadata": {},
   "outputs": [
    {
     "data": {
      "text/html": [
       "<style>#sk-container-id-1 {color: black;background-color: white;}#sk-container-id-1 pre{padding: 0;}#sk-container-id-1 div.sk-toggleable {background-color: white;}#sk-container-id-1 label.sk-toggleable__label {cursor: pointer;display: block;width: 100%;margin-bottom: 0;padding: 0.3em;box-sizing: border-box;text-align: center;}#sk-container-id-1 label.sk-toggleable__label-arrow:before {content: \"▸\";float: left;margin-right: 0.25em;color: #696969;}#sk-container-id-1 label.sk-toggleable__label-arrow:hover:before {color: black;}#sk-container-id-1 div.sk-estimator:hover label.sk-toggleable__label-arrow:before {color: black;}#sk-container-id-1 div.sk-toggleable__content {max-height: 0;max-width: 0;overflow: hidden;text-align: left;background-color: #f0f8ff;}#sk-container-id-1 div.sk-toggleable__content pre {margin: 0.2em;color: black;border-radius: 0.25em;background-color: #f0f8ff;}#sk-container-id-1 input.sk-toggleable__control:checked~div.sk-toggleable__content {max-height: 200px;max-width: 100%;overflow: auto;}#sk-container-id-1 input.sk-toggleable__control:checked~label.sk-toggleable__label-arrow:before {content: \"▾\";}#sk-container-id-1 div.sk-estimator input.sk-toggleable__control:checked~label.sk-toggleable__label {background-color: #d4ebff;}#sk-container-id-1 div.sk-label input.sk-toggleable__control:checked~label.sk-toggleable__label {background-color: #d4ebff;}#sk-container-id-1 input.sk-hidden--visually {border: 0;clip: rect(1px 1px 1px 1px);clip: rect(1px, 1px, 1px, 1px);height: 1px;margin: -1px;overflow: hidden;padding: 0;position: absolute;width: 1px;}#sk-container-id-1 div.sk-estimator {font-family: monospace;background-color: #f0f8ff;border: 1px dotted black;border-radius: 0.25em;box-sizing: border-box;margin-bottom: 0.5em;}#sk-container-id-1 div.sk-estimator:hover {background-color: #d4ebff;}#sk-container-id-1 div.sk-parallel-item::after {content: \"\";width: 100%;border-bottom: 1px solid gray;flex-grow: 1;}#sk-container-id-1 div.sk-label:hover label.sk-toggleable__label {background-color: #d4ebff;}#sk-container-id-1 div.sk-serial::before {content: \"\";position: absolute;border-left: 1px solid gray;box-sizing: border-box;top: 0;bottom: 0;left: 50%;z-index: 0;}#sk-container-id-1 div.sk-serial {display: flex;flex-direction: column;align-items: center;background-color: white;padding-right: 0.2em;padding-left: 0.2em;position: relative;}#sk-container-id-1 div.sk-item {position: relative;z-index: 1;}#sk-container-id-1 div.sk-parallel {display: flex;align-items: stretch;justify-content: center;background-color: white;position: relative;}#sk-container-id-1 div.sk-item::before, #sk-container-id-1 div.sk-parallel-item::before {content: \"\";position: absolute;border-left: 1px solid gray;box-sizing: border-box;top: 0;bottom: 0;left: 50%;z-index: -1;}#sk-container-id-1 div.sk-parallel-item {display: flex;flex-direction: column;z-index: 1;position: relative;background-color: white;}#sk-container-id-1 div.sk-parallel-item:first-child::after {align-self: flex-end;width: 50%;}#sk-container-id-1 div.sk-parallel-item:last-child::after {align-self: flex-start;width: 50%;}#sk-container-id-1 div.sk-parallel-item:only-child::after {width: 0;}#sk-container-id-1 div.sk-dashed-wrapped {border: 1px dashed gray;margin: 0 0.4em 0.5em 0.4em;box-sizing: border-box;padding-bottom: 0.4em;background-color: white;}#sk-container-id-1 div.sk-label label {font-family: monospace;font-weight: bold;display: inline-block;line-height: 1.2em;}#sk-container-id-1 div.sk-label-container {text-align: center;}#sk-container-id-1 div.sk-container {/* jupyter's `normalize.less` sets `[hidden] { display: none; }` but bootstrap.min.css set `[hidden] { display: none !important; }` so we also need the `!important` here to be able to override the default hidden behavior on the sphinx rendered scikit-learn.org. See: https://github.com/scikit-learn/scikit-learn/issues/21755 */display: inline-block !important;position: relative;}#sk-container-id-1 div.sk-text-repr-fallback {display: none;}</style><div id=\"sk-container-id-1\" class=\"sk-top-container\"><div class=\"sk-text-repr-fallback\"><pre>LinearRegression()</pre><b>In a Jupyter environment, please rerun this cell to show the HTML representation or trust the notebook. <br />On GitHub, the HTML representation is unable to render, please try loading this page with nbviewer.org.</b></div><div class=\"sk-container\" hidden><div class=\"sk-item\"><div class=\"sk-estimator sk-toggleable\"><input class=\"sk-toggleable__control sk-hidden--visually\" id=\"sk-estimator-id-1\" type=\"checkbox\" checked><label for=\"sk-estimator-id-1\" class=\"sk-toggleable__label sk-toggleable__label-arrow\">LinearRegression</label><div class=\"sk-toggleable__content\"><pre>LinearRegression()</pre></div></div></div></div></div>"
      ],
      "text/plain": [
       "LinearRegression()"
      ]
     },
     "execution_count": 11,
     "metadata": {},
     "output_type": "execute_result"
    }
   ],
   "source": [
    "from sklearn.linear_model import LinearRegression\n",
    "\n",
    "model = LinearRegression()\n",
    "model.fit(X_train,y_train)"
   ]
  },
  {
   "cell_type": "code",
   "execution_count": 12,
   "id": "8d64ea78",
   "metadata": {},
   "outputs": [],
   "source": [
    "y_pred=model.predict(X_test)"
   ]
  },
  {
   "cell_type": "code",
   "execution_count": 13,
   "id": "3c9f4cdf",
   "metadata": {},
   "outputs": [
    {
     "data": {
      "text/plain": [
       "array([32.69106094, 10.98396688, 25.08566149, 34.37017459, 16.27639885,\n",
       "       20.98959208, 35.40904372, 39.17680012, 37.42903027, 28.49293636,\n",
       "       20.27206714, 17.8440723 , 36.41360261, 24.51098953, 15.00159628,\n",
       "       25.19869449, 18.09978504, 33.24598345, 32.33437935, 27.59217649,\n",
       "       31.2223058 , 16.46649125, 21.51205405, 31.08751713, 25.61285625,\n",
       "       20.06530175, 20.55007157,  9.51186203, 31.07431159, 13.27785252,\n",
       "       32.47887953, 20.38013817, 22.76972363,  2.42934734, 18.69387813,\n",
       "        7.24576006, 25.71112995, 20.18308437,  2.57087777,  8.8800766 ,\n",
       "       22.5717724 , 37.73260091, 22.14683158, 12.84005232, 29.30936024,\n",
       "       15.08433151, 10.90243714, 17.79322044,  5.6195855 , 23.15346062,\n",
       "       18.33150201, 12.68268595, 11.02466423, 19.36848055, 31.42249874,\n",
       "       32.67389031, 24.38512772, 19.68116689, 21.8707815 , 25.54986824,\n",
       "       36.74613813, 19.47431485, 23.56990508, 17.63322974, 13.1366849 ,\n",
       "       25.00581315, 30.1280703 , 16.30344873, 19.93077577, 16.65001512,\n",
       "       29.83086349, 36.92047041, -5.05506317, 18.78885408, 36.76917633,\n",
       "       17.7930323 , 13.98389821, 15.39736431, 21.16826476, 27.27396791,\n",
       "       34.30943309, 20.84579128, 18.380019  , 16.68163989, 14.97544502,\n",
       "       31.50253895, 16.97990819, 30.72354407, 27.57944466, 25.64953009,\n",
       "       27.17474757, 25.94619828])"
      ]
     },
     "execution_count": 13,
     "metadata": {},
     "output_type": "execute_result"
    }
   ],
   "source": [
    "y_pred"
   ]
  },
  {
   "cell_type": "code",
   "execution_count": 17,
   "id": "ac357aac",
   "metadata": {},
   "outputs": [
    {
     "name": "stdout",
     "output_type": "stream",
     "text": [
      "Mean Squared Error:  28.455889326331327\n",
      "R-squared (R2):  0.6738697447005217\n",
      "Mean Absolute Error :  3.620283356389152\n"
     ]
    }
   ],
   "source": [
    "from sklearn.metrics import mean_squared_error, r2_score,mean_absolute_error\n",
    "\n",
    "predictions = model.predict(X_test)\n",
    "\n",
    "mse = mean_squared_error(y_test, predictions)\n",
    "r2 = r2_score(y_test, predictions)\n",
    "mab = mean_absolute_error(y_test, predictions)\n",
    "\n",
    "print(\"Mean Squared Error: \", mse)\n",
    "print(\"R-squared (R2): \", r2)\n",
    "print(\"Mean Absolute Error : \", mab)"
   ]
  },
  {
   "cell_type": "code",
   "execution_count": 18,
   "id": "8d3189f2",
   "metadata": {},
   "outputs": [
    {
     "ename": "ModuleNotFoundError",
     "evalue": "No module named 'tensorflow'",
     "output_type": "error",
     "traceback": [
      "\u001b[1;31m---------------------------------------------------------------------------\u001b[0m",
      "\u001b[1;31mModuleNotFoundError\u001b[0m                       Traceback (most recent call last)",
      "Cell \u001b[1;32mIn[18], line 1\u001b[0m\n\u001b[1;32m----> 1\u001b[0m \u001b[38;5;28;01mimport\u001b[39;00m \u001b[38;5;21;01mtensorflow\u001b[39;00m \u001b[38;5;28;01mas\u001b[39;00m \u001b[38;5;21;01mtf\u001b[39;00m\n",
      "\u001b[1;31mModuleNotFoundError\u001b[0m: No module named 'tensorflow'"
     ]
    }
   ],
   "source": [
    "import tensorflow as tf"
   ]
  },
  {
   "cell_type": "code",
   "execution_count": 19,
   "id": "729c7b8b",
   "metadata": {},
   "outputs": [
    {
     "data": {
      "text/plain": [
       "array([32.69106094, 10.98396688, 25.08566149, 34.37017459, 16.27639885,\n",
       "       20.98959208, 35.40904372, 39.17680012, 37.42903027, 28.49293636,\n",
       "       20.27206714, 17.8440723 , 36.41360261, 24.51098953, 15.00159628,\n",
       "       25.19869449, 18.09978504, 33.24598345, 32.33437935, 27.59217649,\n",
       "       31.2223058 , 16.46649125, 21.51205405, 31.08751713, 25.61285625,\n",
       "       20.06530175, 20.55007157,  9.51186203, 31.07431159, 13.27785252,\n",
       "       32.47887953, 20.38013817, 22.76972363,  2.42934734, 18.69387813,\n",
       "        7.24576006, 25.71112995, 20.18308437,  2.57087777,  8.8800766 ,\n",
       "       22.5717724 , 37.73260091, 22.14683158, 12.84005232, 29.30936024,\n",
       "       15.08433151, 10.90243714, 17.79322044,  5.6195855 , 23.15346062,\n",
       "       18.33150201, 12.68268595, 11.02466423, 19.36848055, 31.42249874,\n",
       "       32.67389031, 24.38512772, 19.68116689, 21.8707815 , 25.54986824,\n",
       "       36.74613813, 19.47431485, 23.56990508, 17.63322974, 13.1366849 ,\n",
       "       25.00581315, 30.1280703 , 16.30344873, 19.93077577, 16.65001512,\n",
       "       29.83086349, 36.92047041, -5.05506317, 18.78885408, 36.76917633,\n",
       "       17.7930323 , 13.98389821, 15.39736431, 21.16826476, 27.27396791,\n",
       "       34.30943309, 20.84579128, 18.380019  , 16.68163989, 14.97544502,\n",
       "       31.50253895, 16.97990819, 30.72354407, 27.57944466, 25.64953009,\n",
       "       27.17474757, 25.94619828])"
      ]
     },
     "execution_count": 19,
     "metadata": {},
     "output_type": "execute_result"
    }
   ],
   "source": [
    "predictions"
   ]
  },
  {
   "cell_type": "code",
   "execution_count": 20,
   "id": "69727337",
   "metadata": {},
   "outputs": [
    {
     "ename": "NameError",
     "evalue": "name 'tf' is not defined",
     "output_type": "error",
     "traceback": [
      "\u001b[1;31m---------------------------------------------------------------------------\u001b[0m",
      "\u001b[1;31mNameError\u001b[0m                                 Traceback (most recent call last)",
      "Cell \u001b[1;32mIn[20], line 1\u001b[0m\n\u001b[1;32m----> 1\u001b[0m \u001b[43mtf\u001b[49m\n",
      "\u001b[1;31mNameError\u001b[0m: name 'tf' is not defined"
     ]
    }
   ],
   "source": [
    "tf"
   ]
  },
  {
   "cell_type": "code",
   "execution_count": 18,
   "id": "c2ae0b25",
   "metadata": {},
   "outputs": [
    {
     "data": {
      "text/plain": [
       "13"
      ]
     },
     "execution_count": 18,
     "metadata": {},
     "output_type": "execute_result"
    }
   ],
   "source": [
    "X_train.shape[1]"
   ]
  },
  {
   "cell_type": "code",
   "execution_count": 19,
   "id": "bd9c4a89",
   "metadata": {},
   "outputs": [
    {
     "data": {
      "text/plain": [
       "(414, 13)"
      ]
     },
     "execution_count": 19,
     "metadata": {},
     "output_type": "execute_result"
    }
   ],
   "source": [
    "X_train.shape"
   ]
  },
  {
   "cell_type": "code",
   "execution_count": 20,
   "id": "990c9b09",
   "metadata": {},
   "outputs": [],
   "source": [
    "model=tf.keras.Sequential([\n",
    "    tf.keras.layers.Dense(64, activation='relu', input_shape=(X_train.shape[1],)),\n",
    "    tf.keras.layers.Dense(32, activation='relu',),\n",
    "    tf.keras.layers.Dense(16, activation='relu',),\n",
    "    tf.keras.layers.Dense(1)\n",
    "    \n",
    "])"
   ]
  },
  {
   "cell_type": "code",
   "execution_count": 21,
   "id": "5019543a",
   "metadata": {},
   "outputs": [
    {
     "data": {
      "text/plain": [
       "<keras.src.engine.sequential.Sequential at 0x2005d11d750>"
      ]
     },
     "execution_count": 21,
     "metadata": {},
     "output_type": "execute_result"
    }
   ],
   "source": [
    "model"
   ]
  },
  {
   "cell_type": "markdown",
   "id": "bc32e2da",
   "metadata": {},
   "source": [
    "# Compile the model"
   ]
  },
  {
   "cell_type": "code",
   "execution_count": 22,
   "id": "38f150a5",
   "metadata": {},
   "outputs": [],
   "source": [
    "model.compile(optimizer='adam',loss='mean_squared_error')"
   ]
  },
  {
   "cell_type": "markdown",
   "id": "f5abba84",
   "metadata": {},
   "source": [
    "# Training the model"
   ]
  },
  {
   "cell_type": "code",
   "execution_count": 23,
   "id": "cb8dcd6c",
   "metadata": {},
   "outputs": [
    {
     "name": "stdout",
     "output_type": "stream",
     "text": [
      "Epoch 1/100\n",
      "13/13 [==============================] - 2s 37ms/step - loss: 563.3166 - val_loss: 560.3908\n",
      "Epoch 2/100\n",
      "13/13 [==============================] - 0s 8ms/step - loss: 526.7200 - val_loss: 513.5432\n",
      "Epoch 3/100\n",
      "13/13 [==============================] - 0s 9ms/step - loss: 461.5240 - val_loss: 429.6679\n",
      "Epoch 4/100\n",
      "13/13 [==============================] - 0s 9ms/step - loss: 351.2547 - val_loss: 295.8023\n",
      "Epoch 5/100\n",
      "13/13 [==============================] - 0s 8ms/step - loss: 198.3070 - val_loss: 149.2513\n",
      "Epoch 6/100\n",
      "13/13 [==============================] - 0s 11ms/step - loss: 87.9925 - val_loss: 80.7004\n",
      "Epoch 7/100\n",
      "13/13 [==============================] - 0s 11ms/step - loss: 61.9241 - val_loss: 60.8388\n",
      "Epoch 8/100\n",
      "13/13 [==============================] - 0s 16ms/step - loss: 43.8100 - val_loss: 48.3420\n",
      "Epoch 9/100\n",
      "13/13 [==============================] - 0s 11ms/step - loss: 33.9963 - val_loss: 40.1436\n",
      "Epoch 10/100\n",
      "13/13 [==============================] - 0s 11ms/step - loss: 29.0269 - val_loss: 34.7482\n",
      "Epoch 11/100\n",
      "13/13 [==============================] - 0s 11ms/step - loss: 26.0117 - val_loss: 30.6876\n",
      "Epoch 12/100\n",
      "13/13 [==============================] - 0s 12ms/step - loss: 23.5898 - val_loss: 28.0751\n",
      "Epoch 13/100\n",
      "13/13 [==============================] - 0s 10ms/step - loss: 22.1302 - val_loss: 25.9542\n",
      "Epoch 14/100\n",
      "13/13 [==============================] - 0s 11ms/step - loss: 20.7033 - val_loss: 24.5787\n",
      "Epoch 15/100\n",
      "13/13 [==============================] - 0s 9ms/step - loss: 19.6793 - val_loss: 23.4902\n",
      "Epoch 16/100\n",
      "13/13 [==============================] - 0s 10ms/step - loss: 18.6677 - val_loss: 22.5615\n",
      "Epoch 17/100\n",
      "13/13 [==============================] - 0s 9ms/step - loss: 17.9833 - val_loss: 21.7778\n",
      "Epoch 18/100\n",
      "13/13 [==============================] - 0s 10ms/step - loss: 17.1487 - val_loss: 21.0965\n",
      "Epoch 19/100\n",
      "13/13 [==============================] - 0s 10ms/step - loss: 16.5579 - val_loss: 20.5765\n",
      "Epoch 20/100\n",
      "13/13 [==============================] - 0s 11ms/step - loss: 16.1498 - val_loss: 20.4720\n",
      "Epoch 21/100\n",
      "13/13 [==============================] - 0s 9ms/step - loss: 15.4167 - val_loss: 19.6671\n",
      "Epoch 22/100\n",
      "13/13 [==============================] - 0s 9ms/step - loss: 15.4818 - val_loss: 19.1785\n",
      "Epoch 23/100\n",
      "13/13 [==============================] - 0s 10ms/step - loss: 14.6344 - val_loss: 19.6709\n",
      "Epoch 24/100\n",
      "13/13 [==============================] - 0s 10ms/step - loss: 14.3107 - val_loss: 18.8916\n",
      "Epoch 25/100\n",
      "13/13 [==============================] - 0s 11ms/step - loss: 13.8939 - val_loss: 18.3920\n",
      "Epoch 26/100\n",
      "13/13 [==============================] - 0s 10ms/step - loss: 13.6488 - val_loss: 18.5852\n",
      "Epoch 27/100\n",
      "13/13 [==============================] - 0s 12ms/step - loss: 13.2562 - val_loss: 18.0961\n",
      "Epoch 28/100\n",
      "13/13 [==============================] - 0s 10ms/step - loss: 12.8948 - val_loss: 18.1973\n",
      "Epoch 29/100\n",
      "13/13 [==============================] - 0s 9ms/step - loss: 12.7572 - val_loss: 18.2162\n",
      "Epoch 30/100\n",
      "13/13 [==============================] - 0s 10ms/step - loss: 12.3390 - val_loss: 17.2061\n",
      "Epoch 31/100\n",
      "13/13 [==============================] - 0s 10ms/step - loss: 12.1156 - val_loss: 17.4085\n",
      "Epoch 32/100\n",
      "13/13 [==============================] - 0s 10ms/step - loss: 11.9087 - val_loss: 17.3497\n",
      "Epoch 33/100\n",
      "13/13 [==============================] - 0s 11ms/step - loss: 11.6833 - val_loss: 17.2362\n",
      "Epoch 34/100\n",
      "13/13 [==============================] - 0s 14ms/step - loss: 11.4945 - val_loss: 17.2361\n",
      "Epoch 35/100\n",
      "13/13 [==============================] - 0s 11ms/step - loss: 11.3046 - val_loss: 16.8883\n",
      "Epoch 36/100\n",
      "13/13 [==============================] - 0s 9ms/step - loss: 11.6138 - val_loss: 16.6237\n",
      "Epoch 37/100\n",
      "13/13 [==============================] - 0s 8ms/step - loss: 11.0549 - val_loss: 16.9429\n",
      "Epoch 38/100\n",
      "13/13 [==============================] - 0s 9ms/step - loss: 10.8633 - val_loss: 16.4027\n",
      "Epoch 39/100\n",
      "13/13 [==============================] - 0s 10ms/step - loss: 10.8024 - val_loss: 16.1292\n",
      "Epoch 40/100\n",
      "13/13 [==============================] - 0s 9ms/step - loss: 10.6065 - val_loss: 16.1933\n",
      "Epoch 41/100\n",
      "13/13 [==============================] - 0s 10ms/step - loss: 10.5668 - val_loss: 16.3153\n",
      "Epoch 42/100\n",
      "13/13 [==============================] - 0s 8ms/step - loss: 10.4421 - val_loss: 15.8073\n",
      "Epoch 43/100\n",
      "13/13 [==============================] - 0s 11ms/step - loss: 10.1956 - val_loss: 16.0844\n",
      "Epoch 44/100\n",
      "13/13 [==============================] - 0s 9ms/step - loss: 10.1596 - val_loss: 15.6755\n",
      "Epoch 45/100\n",
      "13/13 [==============================] - 0s 10ms/step - loss: 9.9589 - val_loss: 15.7312\n",
      "Epoch 46/100\n",
      "13/13 [==============================] - 0s 9ms/step - loss: 9.8387 - val_loss: 15.4773\n",
      "Epoch 47/100\n",
      "13/13 [==============================] - 0s 10ms/step - loss: 9.7334 - val_loss: 15.5071\n",
      "Epoch 48/100\n",
      "13/13 [==============================] - 0s 9ms/step - loss: 9.8004 - val_loss: 15.6383\n",
      "Epoch 49/100\n",
      "13/13 [==============================] - 0s 9ms/step - loss: 9.6362 - val_loss: 14.8695\n",
      "Epoch 50/100\n",
      "13/13 [==============================] - 0s 9ms/step - loss: 9.4944 - val_loss: 15.7156\n",
      "Epoch 51/100\n",
      "13/13 [==============================] - 0s 11ms/step - loss: 9.4381 - val_loss: 15.0202\n",
      "Epoch 52/100\n",
      "13/13 [==============================] - 0s 9ms/step - loss: 9.1659 - val_loss: 15.1076\n",
      "Epoch 53/100\n",
      "13/13 [==============================] - 0s 9ms/step - loss: 9.0589 - val_loss: 14.8600\n",
      "Epoch 54/100\n",
      "13/13 [==============================] - 0s 8ms/step - loss: 9.0356 - val_loss: 14.9521\n",
      "Epoch 55/100\n",
      "13/13 [==============================] - 0s 13ms/step - loss: 8.8702 - val_loss: 14.9074\n",
      "Epoch 56/100\n",
      "13/13 [==============================] - 0s 9ms/step - loss: 8.9317 - val_loss: 14.4253\n",
      "Epoch 57/100\n",
      "13/13 [==============================] - 0s 9ms/step - loss: 8.8467 - val_loss: 14.6283\n",
      "Epoch 58/100\n",
      "13/13 [==============================] - 0s 8ms/step - loss: 8.6029 - val_loss: 14.8060\n",
      "Epoch 59/100\n",
      "13/13 [==============================] - 0s 11ms/step - loss: 8.6215 - val_loss: 14.5673\n",
      "Epoch 60/100\n",
      "13/13 [==============================] - 0s 10ms/step - loss: 8.5304 - val_loss: 14.3858\n",
      "Epoch 61/100\n",
      "13/13 [==============================] - 0s 9ms/step - loss: 8.5316 - val_loss: 14.1013\n",
      "Epoch 62/100\n",
      "13/13 [==============================] - 0s 9ms/step - loss: 8.2424 - val_loss: 14.5018\n",
      "Epoch 63/100\n",
      "13/13 [==============================] - 0s 10ms/step - loss: 8.1645 - val_loss: 14.3601\n",
      "Epoch 64/100\n",
      "13/13 [==============================] - 0s 8ms/step - loss: 8.1073 - val_loss: 14.2548\n",
      "Epoch 65/100\n",
      "13/13 [==============================] - 0s 10ms/step - loss: 8.0243 - val_loss: 14.4397\n",
      "Epoch 66/100\n",
      "13/13 [==============================] - 0s 10ms/step - loss: 7.9261 - val_loss: 14.0081\n",
      "Epoch 67/100\n",
      "13/13 [==============================] - 0s 9ms/step - loss: 7.9260 - val_loss: 14.2274\n",
      "Epoch 68/100\n",
      "13/13 [==============================] - 0s 9ms/step - loss: 7.7927 - val_loss: 14.2739\n",
      "Epoch 69/100\n",
      "13/13 [==============================] - 0s 12ms/step - loss: 7.6983 - val_loss: 14.0709\n",
      "Epoch 70/100\n",
      "13/13 [==============================] - 0s 9ms/step - loss: 7.6025 - val_loss: 14.2980\n",
      "Epoch 71/100\n",
      "13/13 [==============================] - 0s 10ms/step - loss: 7.5469 - val_loss: 13.9307\n",
      "Epoch 72/100\n",
      "13/13 [==============================] - 0s 9ms/step - loss: 7.4425 - val_loss: 14.0311\n",
      "Epoch 73/100\n",
      "13/13 [==============================] - 0s 9ms/step - loss: 7.3707 - val_loss: 13.9798\n",
      "Epoch 74/100\n",
      "13/13 [==============================] - 0s 9ms/step - loss: 7.4446 - val_loss: 14.2248\n",
      "Epoch 75/100\n",
      "13/13 [==============================] - 0s 9ms/step - loss: 7.2866 - val_loss: 13.9213\n",
      "Epoch 76/100\n",
      "13/13 [==============================] - 0s 10ms/step - loss: 7.1949 - val_loss: 14.0635\n",
      "Epoch 77/100\n",
      "13/13 [==============================] - 0s 10ms/step - loss: 7.2586 - val_loss: 13.6137\n",
      "Epoch 78/100\n",
      "13/13 [==============================] - 0s 10ms/step - loss: 7.0183 - val_loss: 14.3053\n",
      "Epoch 79/100\n",
      "13/13 [==============================] - 0s 9ms/step - loss: 6.9061 - val_loss: 13.7474\n",
      "Epoch 80/100\n",
      "13/13 [==============================] - 0s 12ms/step - loss: 6.8916 - val_loss: 13.9874\n",
      "Epoch 81/100\n",
      "13/13 [==============================] - 0s 10ms/step - loss: 6.8097 - val_loss: 13.9279\n",
      "Epoch 82/100\n",
      "13/13 [==============================] - 0s 14ms/step - loss: 6.7271 - val_loss: 13.8712\n",
      "Epoch 83/100\n",
      "13/13 [==============================] - 0s 7ms/step - loss: 6.6860 - val_loss: 14.0650\n",
      "Epoch 84/100\n",
      "13/13 [==============================] - 0s 9ms/step - loss: 6.5243 - val_loss: 13.8075\n",
      "Epoch 85/100\n",
      "13/13 [==============================] - 0s 11ms/step - loss: 6.5697 - val_loss: 14.0563\n",
      "Epoch 86/100\n",
      "13/13 [==============================] - 0s 9ms/step - loss: 6.5087 - val_loss: 13.9212\n",
      "Epoch 87/100\n",
      "13/13 [==============================] - 0s 9ms/step - loss: 6.4489 - val_loss: 13.8084\n",
      "Epoch 88/100\n",
      "13/13 [==============================] - 0s 8ms/step - loss: 6.5764 - val_loss: 14.2804\n",
      "Epoch 89/100\n",
      "13/13 [==============================] - 0s 8ms/step - loss: 6.5661 - val_loss: 13.7540\n",
      "Epoch 90/100\n",
      "13/13 [==============================] - 0s 10ms/step - loss: 6.3471 - val_loss: 14.2672\n",
      "Epoch 91/100\n",
      "13/13 [==============================] - 0s 9ms/step - loss: 6.2440 - val_loss: 13.6961\n",
      "Epoch 92/100\n",
      "13/13 [==============================] - 0s 10ms/step - loss: 6.1680 - val_loss: 14.3035\n",
      "Epoch 93/100\n",
      "13/13 [==============================] - 0s 8ms/step - loss: 6.0746 - val_loss: 13.7263\n",
      "Epoch 94/100\n",
      "13/13 [==============================] - 0s 9ms/step - loss: 6.0852 - val_loss: 13.6930\n",
      "Epoch 95/100\n",
      "13/13 [==============================] - 0s 11ms/step - loss: 5.9384 - val_loss: 13.8269\n",
      "Epoch 96/100\n",
      "13/13 [==============================] - 0s 12ms/step - loss: 5.9666 - val_loss: 13.7967\n",
      "Epoch 97/100\n",
      "13/13 [==============================] - 0s 11ms/step - loss: 5.8429 - val_loss: 13.7147\n",
      "Epoch 98/100\n",
      "13/13 [==============================] - 0s 8ms/step - loss: 5.7922 - val_loss: 13.9289\n",
      "Epoch 99/100\n",
      "13/13 [==============================] - 0s 10ms/step - loss: 5.8877 - val_loss: 13.9642\n",
      "Epoch 100/100\n",
      "13/13 [==============================] - 0s 8ms/step - loss: 5.8732 - val_loss: 13.9249\n"
     ]
    },
    {
     "data": {
      "text/plain": [
       "<keras.src.callbacks.History at 0x2005d23e3e0>"
      ]
     },
     "execution_count": 23,
     "metadata": {},
     "output_type": "execute_result"
    }
   ],
   "source": [
    "model.fit(X_train,y_train,epochs=100,batch_size=32,validation_data=(X_test,y_test))"
   ]
  },
  {
   "cell_type": "code",
   "execution_count": 24,
   "id": "406f2396",
   "metadata": {},
   "outputs": [
    {
     "name": "stdout",
     "output_type": "stream",
     "text": [
      "3/3 [==============================] - 0s 7ms/step - loss: 13.9249\n"
     ]
    }
   ],
   "source": [
    "loss=model.evaluate(X_test,y_test)"
   ]
  },
  {
   "cell_type": "code",
   "execution_count": 25,
   "id": "69263525",
   "metadata": {},
   "outputs": [
    {
     "name": "stdout",
     "output_type": "stream",
     "text": [
      "mse of test data = 13.924908638000488\n"
     ]
    }
   ],
   "source": [
    "print(f\"mse of test data = {loss}\")"
   ]
  }
 ],
 "metadata": {
  "kernelspec": {
   "display_name": "Python 3 (ipykernel)",
   "language": "python",
   "name": "python3"
  },
  "language_info": {
   "codemirror_mode": {
    "name": "ipython",
    "version": 3
   },
   "file_extension": ".py",
   "mimetype": "text/x-python",
   "name": "python",
   "nbconvert_exporter": "python",
   "pygments_lexer": "ipython3",
   "version": "3.10.9"
  }
 },
 "nbformat": 4,
 "nbformat_minor": 5
}
